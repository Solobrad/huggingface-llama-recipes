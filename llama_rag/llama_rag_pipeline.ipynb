{
 "cells": [
  {
   "cell_type": "code",
   "execution_count": 1,
   "metadata": {},
   "outputs": [
    {
     "name": "stderr",
     "output_type": "stream",
     "text": [
      "e:\\AI Projects\\Hugging Face LLaMa recipes\\huggingface-llama-recipes\\venv\\lib\\site-packages\\sentence_transformers\\cross_encoder\\CrossEncoder.py:13: TqdmExperimentalWarning: Using `tqdm.autonotebook.tqdm` in notebook mode. Use `tqdm.tqdm` instead to force console mode (e.g. in jupyter console)\n",
      "  from tqdm.autonotebook import tqdm, trange\n"
     ]
    }
   ],
   "source": [
    "from sentence_transformers import SentenceTransformer, util"
   ]
  },
  {
   "cell_type": "code",
   "execution_count": 2,
   "metadata": {},
   "outputs": [],
   "source": [
    "# Step 1: Define a dictionary with text snippets\n",
    "\n",
    "text_snippets = {\n",
    "    1: \"Fiona thanked Ethan for his unwavering support and promised to cherish their friendship.\",\n",
    "    2: \"As they ventured deeper into the forest, they encountered a wide array of obstacles.\",\n",
    "    3: \"Ethan and Fiona crossed treacherous ravines using rickety bridges, relying on each other's strength.\",\n",
    "    4: \"Overwhelmed with joy, Fiona thanked Ethan and disappeared into the embrace of her family.\",\n",
    "    5: \"Ethan returned to his cottage, heart full of memories and a smile brighter than ever before.\"\n",
    "}"
   ]
  },
  {
   "cell_type": "code",
   "execution_count": 3,
   "metadata": {},
   "outputs": [
    {
     "name": "stderr",
     "output_type": "stream",
     "text": [
      "e:\\AI Projects\\Hugging Face LLaMa recipes\\huggingface-llama-recipes\\venv\\lib\\site-packages\\transformers\\tokenization_utils_base.py:1617: FutureWarning: `clean_up_tokenization_spaces` was not set. It will be set to `True` by default. This behavior will be deprecated in transformers v4.45, and will be then set to `False` by default. For more details check this issue: https://github.com/huggingface/transformers/issues/31884\n",
      "  warnings.warn(\n"
     ]
    }
   ],
   "source": [
    "# Step 2: Initialize the embedding model\n",
    "model = SentenceTransformer('sentence-transformers/all-MiniLM-L6-v2')"
   ]
  },
  {
   "cell_type": "code",
   "execution_count": 4,
   "metadata": {},
   "outputs": [],
   "source": [
    "# Step 3: Embed all text snippets\n",
    "snippets_embedded = {key: model.encode(text) for key, text in text_snippets.items()}\n"
   ]
  },
  {
   "cell_type": "code",
   "execution_count": 5,
   "metadata": {},
   "outputs": [],
   "source": [
    "# Step 4: Function to retrieve the closest matching snippet using cosine similarity\n",
    "def retrieve_snippet(query, top_k=1):\n",
    "    query_embedded = model.encode(query)\n",
    "    similarities = {key: util.pytorch_cos_sim(query_embedded, snippet_emb).item() \n",
    "                    for key, snippet_emb in snippets_embedded.items()}\n",
    "    \n",
    "    # Sort by similarity score\n",
    "    closest_matches = sorted(similarities.items(), key=lambda item: item[1], reverse=True)[:top_k]\n",
    "    retrieved_texts = [text_snippets[key] for key, _ in closest_matches]\n",
    "    return retrieved_texts"
   ]
  },
  {
   "cell_type": "code",
   "execution_count": 6,
   "metadata": {},
   "outputs": [],
   "source": [
    "# Step 5: Generate a new prompt with the retrieved text\n",
    "def generate_prompt(query):\n",
    "    retrieved_texts = retrieve_snippet(query)\n",
    "    prompt = f\"Context: {' '.join(retrieved_texts)}\\nQuestion: {query}\\nAnswer: \"\n",
    "    return prompt"
   ]
  },
  {
   "cell_type": "code",
   "execution_count": 7,
   "metadata": {},
   "outputs": [
    {
     "name": "stdout",
     "output_type": "stream",
     "text": [
      "Context: Fiona thanked Ethan for his unwavering support and promised to cherish their friendship.\n",
      "Question: Why did Fiona thank Ethan?\n",
      "Answer: \n"
     ]
    }
   ],
   "source": [
    "# Step 6: Ask a question\n",
    "query = \"Why did Fiona thank Ethan?\"\n",
    "prompt = generate_prompt(query)\n",
    "print(prompt)"
   ]
  }
 ],
 "metadata": {
  "kernelspec": {
   "display_name": "venv",
   "language": "python",
   "name": "python3"
  },
  "language_info": {
   "codemirror_mode": {
    "name": "ipython",
    "version": 3
   },
   "file_extension": ".py",
   "mimetype": "text/x-python",
   "name": "python",
   "nbconvert_exporter": "python",
   "pygments_lexer": "ipython3",
   "version": "3.10.4"
  }
 },
 "nbformat": 4,
 "nbformat_minor": 2
}
