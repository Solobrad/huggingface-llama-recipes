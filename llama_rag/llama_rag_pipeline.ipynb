{
 "cells": [
  {
   "cell_type": "code",
   "execution_count": 1,
   "metadata": {},
   "outputs": [],
   "source": [
    "import os\n",
    "from dotenv import load_dotenv\n",
    "from huggingface_hub import login, InferenceClient\n",
    "from langchain.vectorstores import Chroma\n",
    "from langchain.embeddings import HuggingFaceEmbeddings\n",
    "from langchain.text_splitter import RecursiveCharacterTextSplitter\n",
    "from langchain.docstore.document import Document\n",
    "from datasets import load_dataset"
   ]
  },
  {
   "cell_type": "code",
   "execution_count": 2,
   "metadata": {},
   "outputs": [
    {
     "data": {
      "application/vnd.jupyter.widget-view+json": {
       "model_id": "675d3981c6d0438ca623f4a7c51eef1a",
       "version_major": 2,
       "version_minor": 0
      },
      "text/plain": [
       "VBox(children=(HTML(value='<center> <img\\nsrc=https://huggingface.co/front/assets/huggingface_logo-noborder.sv…"
      ]
     },
     "metadata": {},
     "output_type": "display_data"
    }
   ],
   "source": [
    "# Create a token Huggin Face and save it in your own .env.local file\n",
    "\n",
    "load_dotenv('.env.local')\n",
    "token = os.getenv('HF_TOKEN')\n",
    "login(token=token)\n",
    "\n",
    "client = InferenceClient(model=\"meta-llama/Llama-3.2-1B\")"
   ]
  },
  {
   "cell_type": "code",
   "execution_count": 3,
   "metadata": {},
   "outputs": [],
   "source": [
    "# Load the dataset from Hugging Face\n",
    "\n",
    "ds = load_dataset(\"Falah/story44kids_1_prompts\") # You can replace this with any compatible dataset"
   ]
  },
  {
   "cell_type": "code",
   "execution_count": 4,
   "metadata": {},
   "outputs": [
    {
     "name": "stdout",
     "output_type": "stream",
     "text": [
      "{'prompts': ['Once upon a time, in a small village nestled on the outskirts of a mystical forest, there lived a poor but content farmer named Ethan. He had a modest cottage and a small plot of land where he grew vegetables to sustain himself. Despite the hardships that came his way, he always wore a smile and greeted everyone with warmth.', \"One sunny morning, as Ethan was tending to his crops, he heard a rustling in the bushes nearby. Curiosity piqued, he cautiously approached the sound and discovered a beautiful fox trapped in a hunter's snare. The fox looked at Ethan with pleading eyes, silently asking for help.\", 'Without a second thought, Ethan rushed over to free the fox. Using his trusted pocket knife, he carefully cut through the tangled mess until the fox was liberated. Grateful for being saved, the fox introduced herself as Fiona. She explained that she had gotten lost while exploring the depths of the mysterious forest.', \"Ethan, being a gentle soul, couldn't leave Fiona alone and lost in the forest. Determined to help her find her way back home, he offered his assistance. Armed with a small bag filled with supplies, the unlikely duo set out on an exciting adventure, navigating through the dense foliage of the lost forest.\", \"As they ventured deeper into the forest, Ethan and Fiona encountered a wide array of obstacles. They crossed treacherous ravines on rickety bridges, climbed towering trees to scout the surroundings, and even stumbled upon a hidden waterfall that enchanted them both. Through it all, they relied on each other's strength and resourcefulness.\"]}\n"
     ]
    }
   ],
   "source": [
    "# Print the first few examples\n",
    "\n",
    "print(ds['train'][:5])"
   ]
  },
  {
   "cell_type": "code",
   "execution_count": 5,
   "metadata": {},
   "outputs": [],
   "source": [
    "# Wrap the text in Document objects\n",
    "\n",
    "train_texts = [item[\"prompts\"] for item in ds['train']]\n",
    "documents = [Document(page_content=f\"Prompt: {text}\") for text in train_texts]\n"
   ]
  },
  {
   "cell_type": "code",
   "execution_count": 6,
   "metadata": {},
   "outputs": [],
   "source": [
    "# Split large documents into chunks\n",
    "\n",
    "text_splitter = RecursiveCharacterTextSplitter(chunk_size=1000, chunk_overlap=200)\n",
    "split_documents = text_splitter.split_documents(documents)"
   ]
  },
  {
   "cell_type": "code",
   "execution_count": 7,
   "metadata": {},
   "outputs": [
    {
     "name": "stdout",
     "output_type": "stream",
     "text": [
      "Number of document chunks: 10\n",
      "Chunk 1:\n",
      "Prompt: Once upon a time, in a small village nestled on the outskirts of a mystical forest, there lived a poor but content farmer named Ethan. He had a modest cottage and a small plot of land where he grew vegetables to sustain himself. Despite the hardships that came his way, he always wore a smile and greeted everyone with warmth.\n",
      "--------------------------------------------------\n",
      "Chunk 2:\n",
      "Prompt: One sunny morning, as Ethan was tending to his crops, he heard a rustling in the bushes nearby. Curiosity piqued, he cautiously approached the sound and discovered a beautiful fox trapped in a hunter's snare. The fox looked at Ethan with pleading eyes, silently asking for help.\n",
      "--------------------------------------------------\n",
      "Chunk 3:\n",
      "Prompt: Without a second thought, Ethan rushed over to free the fox. Using his trusted pocket knife, he carefully cut through the tangled mess until the fox was liberated. Grateful for being saved, the fox introduced herself as Fiona. She explained that she had gotten lost while exploring the depths of the mysterious forest.\n",
      "--------------------------------------------------\n",
      "Chunk 4:\n",
      "Prompt: Ethan, being a gentle soul, couldn't leave Fiona alone and lost in the forest. Determined to help her find her way back home, he offered his assistance. Armed with a small bag filled with supplies, the unlikely duo set out on an exciting adventure, navigating through the dense foliage of the lost forest.\n",
      "--------------------------------------------------\n",
      "Chunk 5:\n",
      "Prompt: As they ventured deeper into the forest, Ethan and Fiona encountered a wide array of obstacles. They crossed treacherous ravines on rickety bridges, climbed towering trees to scout the surroundings, and even stumbled upon a hidden waterfall that enchanted them both. Through it all, they relied on each other's strength and resourcefulness.\n",
      "--------------------------------------------------\n",
      "Chunk 6:\n",
      "Prompt: Along their journey, they encountered a wise old owl named Oliver, who became their guide through the labyrinthine forest. Oliver shared stories of ancient creatures and hidden treasures, igniting the young fox's imagination and filling Ethan's heart with wonder. Together, they unraveled the secrets of the forest and forged an unbreakable bond.\n",
      "--------------------------------------------------\n",
      "Chunk 7:\n",
      "Prompt: Days turned into weeks, and as their friendship grew stronger, so did their determination to find Fiona's home. One misty morning, after a particularly challenging climb up a rocky hill, they reached a clearing that revealed a breathtaking view of Fiona's fox den in the distance.\n",
      "--------------------------------------------------\n",
      "Chunk 8:\n",
      "Prompt: Overwhelmed with joy, Fiona thanked Ethan for his unwavering support and promised to always cherish their friendship. With newfound confidence and a sense of purpose, she bid farewell to Ethan, disappearing into the embrace of her family.\n",
      "--------------------------------------------------\n",
      "Chunk 9:\n",
      "Prompt: Ethan returned to his humble cottage with a heart full of memories and a smile that shone brighter than ever before. He knew that the adventure he embarked upon with Fiona had transformed his perspective on life. The lost forest had gifted him with more than he could have ever imagined – courage, friendship, and a bond that transcended boundaries.\n",
      "--------------------------------------------------\n",
      "Chunk 10:\n",
      "Prompt: From that day forward, Ethan shared his remarkable tale with anyone who would listen. His story of kindness and bravery inspired the villagers, and the lost forest became more than just a mysterious place—it became a symbol of hope and wonder. And in the depths of the forest, where moss-covered trees whispered secrets, the memory of Ethan and Fiona's adventure lived on, forever etched in the hearts of all who heard their tale.\n",
      "--------------------------------------------------\n"
     ]
    }
   ],
   "source": [
    "# Verify the number of document chunks\n",
    "\n",
    "num_chunks = len(split_documents)\n",
    "print(f\"Number of document chunks: {num_chunks}\")\n",
    "\n",
    "# Print content of the chunks \n",
    "for i, doc in enumerate(split_documents):\n",
    "    print(f\"Chunk {i+1}:\\n{doc.page_content}\\n{'-'*50}\")\n"
   ]
  },
  {
   "cell_type": "code",
   "execution_count": 8,
   "metadata": {},
   "outputs": [
    {
     "name": "stderr",
     "output_type": "stream",
     "text": [
      "C:\\Users\\ASUS\\AppData\\Local\\Temp\\ipykernel_18084\\2846096455.py:3: LangChainDeprecationWarning: The class `HuggingFaceEmbeddings` was deprecated in LangChain 0.2.2 and will be removed in 1.0. An updated version of the class exists in the :class:`~langchain-huggingface package and should be used instead. To use it run `pip install -U :class:`~langchain-huggingface` and import as `from :class:`~langchain_huggingface import HuggingFaceEmbeddings``.\n",
      "  embedding_model = HuggingFaceEmbeddings(model_name=\"sentence-transformers/all-MiniLM-L6-v2\")\n",
      "e:\\AI Projects\\Hugging Face LLaMa recipes\\huggingface-llama-recipes\\venv\\lib\\site-packages\\transformers\\tokenization_utils_base.py:1617: FutureWarning: `clean_up_tokenization_spaces` was not set. It will be set to `True` by default. This behavior will be deprecated in transformers v4.45, and will be then set to `False` by default. For more details check this issue: https://github.com/huggingface/transformers/issues/31884\n",
      "  warnings.warn(\n",
      "C:\\Users\\ASUS\\AppData\\Local\\Temp\\ipykernel_18084\\2846096455.py:4: LangChainDeprecationWarning: The class `Chroma` was deprecated in LangChain 0.2.9 and will be removed in 1.0. An updated version of the class exists in the :class:`~langchain-chroma package and should be used instead. To use it run `pip install -U :class:`~langchain-chroma` and import as `from :class:`~langchain_chroma import Chroma``.\n",
      "  vector_store = Chroma(embedding_function=embedding_model, persist_directory=\"./vector_base\")\n",
      "C:\\Users\\ASUS\\AppData\\Local\\Temp\\ipykernel_18084\\2846096455.py:6: LangChainDeprecationWarning: Since Chroma 0.4.x the manual persistence method is no longer supported as docs are automatically persisted.\n",
      "  vector_store.persist()\n"
     ]
    }
   ],
   "source": [
    "# Embed the documents and initialize Chroma vector store\n",
    "\n",
    "embedding_model = HuggingFaceEmbeddings(model_name=\"sentence-transformers/all-MiniLM-L6-v2\")\n",
    "vector_store = Chroma(embedding_function=embedding_model, persist_directory=\"./vector_base\")\n",
    "vector_store.add_documents(split_documents)\n",
    "vector_store.persist()"
   ]
  },
  {
   "cell_type": "code",
   "execution_count": 10,
   "metadata": {},
   "outputs": [
    {
     "name": "stdout",
     "output_type": "stream",
     "text": [
      "Number of embeddings in the vector store: 10\n"
     ]
    }
   ],
   "source": [
    "# Check the number of documents stored in the vector store\n",
    "\n",
    "stored_embeddings = vector_store._collection.count()\n",
    "print(f\"Number of embeddings in the vector store: {stored_embeddings}\")\n"
   ]
  },
  {
   "cell_type": "code",
   "execution_count": 44,
   "metadata": {},
   "outputs": [],
   "source": [
    "# Choose the the number of documents you want to retrieve based on your query\n",
    "\n",
    "def retrieve_documents(query, num_docs=2): # num_docs specifies how many results to return\n",
    "\n",
    "    retrieved_docs = vector_store.similarity_search(query)  \n",
    "    retrieved_texts = [doc.page_content for doc in retrieved_docs[:num_docs]]\n",
    "    print(\"Retrieved Documents:\", retrieved_texts)  \n",
    "    return retrieved_texts"
   ]
  },
  {
   "cell_type": "code",
   "execution_count": 47,
   "metadata": {},
   "outputs": [],
   "source": [
    "def ask_query(query):\n",
    "\n",
    "    retrieved_docs = retrieve_documents(query)\n",
    "    combined_input = (\n",
    "        f\"Answer the question based on the context provided.\\n\\n\"\n",
    "        f\"Question: {query}\\n\"\n",
    "        f\"Context:\\n\"\n",
    "        + \"\\n\".join(retrieved_docs)  \n",
    "    )\n",
    "\n",
    "    response = client.text_generation(combined_input, max_new_tokens=300, temperature=0.7)\n",
    "    return response\n",
    "\n",
    "  "
   ]
  },
  {
   "cell_type": "code",
   "execution_count": 48,
   "metadata": {},
   "outputs": [
    {
     "name": "stdout",
     "output_type": "stream",
     "text": [
      "Retrieved Documents: ['Prompt: Overwhelmed with joy, Fiona thanked Ethan for his unwavering support and promised to always cherish their friendship. With newfound confidence and a sense of purpose, she bid farewell to Ethan, disappearing into the embrace of her family.', 'Prompt: Ethan returned to his humble cottage with a heart full of memories and a smile that shone brighter than ever before. He knew that the adventure he embarked upon with Fiona had transformed his perspective on life. The lost forest had gifted him with more than he could have ever imagined – courage, friendship, and a bond that transcended boundaries.']\n",
      " Ethan was grateful for the lessons he had learned from Fiona and would always cherish their friendship.\n"
     ]
    }
   ],
   "source": [
    "# Modify this query to ask different questions\n",
    "\n",
    "query = \"Who is Ethan\"\n",
    "response = ask_query(query)\n",
    "print(response)"
   ]
  },
  {
   "cell_type": "code",
   "execution_count": null,
   "metadata": {},
   "outputs": [],
   "source": []
  }
 ],
 "metadata": {
  "kernelspec": {
   "display_name": "Python 3",
   "language": "python",
   "name": "python3"
  },
  "language_info": {
   "codemirror_mode": {
    "name": "ipython",
    "version": 3
   },
   "file_extension": ".py",
   "mimetype": "text/x-python",
   "name": "python",
   "nbconvert_exporter": "python",
   "pygments_lexer": "ipython3",
   "version": "3.10.4"
  }
 },
 "nbformat": 4,
 "nbformat_minor": 2
}
