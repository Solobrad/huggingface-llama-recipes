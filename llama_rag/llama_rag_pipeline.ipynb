{
 "cells": [
  {
   "cell_type": "code",
   "execution_count": 1,
   "metadata": {},
   "outputs": [],
   "source": [
    "import os\n",
    "from dotenv import load_dotenv\n",
    "from huggingface_hub import login, InferenceClient\n",
    "from langchain.vectorstores import Chroma\n",
    "from langchain.embeddings import HuggingFaceEmbeddings\n",
    "from langchain.text_splitter import RecursiveCharacterTextSplitter\n",
    "from langchain.docstore.document import Document\n",
    "from sentence_transformers import SentenceTransformer\n",
    "from datasets import load_dataset"
   ]
  },
  {
   "cell_type": "code",
   "execution_count": 2,
   "metadata": {},
   "outputs": [
    {
     "data": {
      "application/vnd.jupyter.widget-view+json": {
       "model_id": "9618b04604a4417ca061c198f8767918",
       "version_major": 2,
       "version_minor": 0
      },
      "text/plain": [
       "VBox(children=(HTML(value='<center> <img\\nsrc=https://huggingface.co/front/assets/huggingface_logo-noborder.sv…"
      ]
     },
     "metadata": {},
     "output_type": "display_data"
    }
   ],
   "source": [
    "\n",
    "load_dotenv('.env.local')\n",
    "token = os.getenv('HF_TOKEN')\n",
    "login(token=token)\n",
    "\n",
    "client = InferenceClient(model=\"meta-llama/Llama-3.2-1B\")"
   ]
  },
  {
   "cell_type": "code",
   "execution_count": 5,
   "metadata": {},
   "outputs": [],
   "source": [
    "# Load Documents from Path using TextLoader\n",
    "\n",
    "# ds = load_dataset(\"gwenshap/sales-transcripts\")\n",
    "ds = load_dataset(\"Falah/story44kids_1_prompts\")"
   ]
  },
  {
   "cell_type": "code",
   "execution_count": 6,
   "metadata": {},
   "outputs": [
    {
     "name": "stdout",
     "output_type": "stream",
     "text": [
      "{'prompts': ['Once upon a time, in a small village nestled on the outskirts of a mystical forest, there lived a poor but content farmer named Ethan. He had a modest cottage and a small plot of land where he grew vegetables to sustain himself. Despite the hardships that came his way, he always wore a smile and greeted everyone with warmth.', \"One sunny morning, as Ethan was tending to his crops, he heard a rustling in the bushes nearby. Curiosity piqued, he cautiously approached the sound and discovered a beautiful fox trapped in a hunter's snare. The fox looked at Ethan with pleading eyes, silently asking for help.\", 'Without a second thought, Ethan rushed over to free the fox. Using his trusted pocket knife, he carefully cut through the tangled mess until the fox was liberated. Grateful for being saved, the fox introduced herself as Fiona. She explained that she had gotten lost while exploring the depths of the mysterious forest.', \"Ethan, being a gentle soul, couldn't leave Fiona alone and lost in the forest. Determined to help her find her way back home, he offered his assistance. Armed with a small bag filled with supplies, the unlikely duo set out on an exciting adventure, navigating through the dense foliage of the lost forest.\", \"As they ventured deeper into the forest, Ethan and Fiona encountered a wide array of obstacles. They crossed treacherous ravines on rickety bridges, climbed towering trees to scout the surroundings, and even stumbled upon a hidden waterfall that enchanted them both. Through it all, they relied on each other's strength and resourcefulness.\"]}\n"
     ]
    }
   ],
   "source": [
    "# Print the first few examples\n",
    "print(ds['train'][:5])\n"
   ]
  },
  {
   "cell_type": "code",
   "execution_count": 7,
   "metadata": {},
   "outputs": [],
   "source": [
    "# Wrap the text in Document objects\n",
    "train_texts = [item[\"prompts\"] for item in ds['train']]\n",
    "\n",
    "# Create Document objects with just the prompt content\n",
    "documents = [Document(page_content=f\"Prompt: {text}\") for text in train_texts]\n"
   ]
  },
  {
   "cell_type": "code",
   "execution_count": 8,
   "metadata": {},
   "outputs": [],
   "source": [
    "# Split large documents into chunks\n",
    "text_splitter = RecursiveCharacterTextSplitter(chunk_size=1000, chunk_overlap=200)\n",
    "split_documents = text_splitter.split_documents(documents)"
   ]
  },
  {
   "cell_type": "code",
   "execution_count": 9,
   "metadata": {},
   "outputs": [
    {
     "name": "stdout",
     "output_type": "stream",
     "text": [
      "Number of document chunks: 10\n",
      "Chunk 1:\n",
      "Prompt: Once upon a time, in a small village nestled on the outskirts of a mystical forest, there lived a poor but content farmer named Ethan. He had a modest cottage and a small plot of land where he grew vegetables to sustain himself. Despite the hardships that came his way, he always wore a smile and greeted everyone with warmth.\n",
      "--------------------------------------------------\n",
      "Chunk 2:\n",
      "Prompt: One sunny morning, as Ethan was tending to his crops, he heard a rustling in the bushes nearby. Curiosity piqued, he cautiously approached the sound and discovered a beautiful fox trapped in a hunter's snare. The fox looked at Ethan with pleading eyes, silently asking for help.\n",
      "--------------------------------------------------\n",
      "Chunk 3:\n",
      "Prompt: Without a second thought, Ethan rushed over to free the fox. Using his trusted pocket knife, he carefully cut through the tangled mess until the fox was liberated. Grateful for being saved, the fox introduced herself as Fiona. She explained that she had gotten lost while exploring the depths of the mysterious forest.\n",
      "--------------------------------------------------\n",
      "Chunk 4:\n",
      "Prompt: Ethan, being a gentle soul, couldn't leave Fiona alone and lost in the forest. Determined to help her find her way back home, he offered his assistance. Armed with a small bag filled with supplies, the unlikely duo set out on an exciting adventure, navigating through the dense foliage of the lost forest.\n",
      "--------------------------------------------------\n",
      "Chunk 5:\n",
      "Prompt: As they ventured deeper into the forest, Ethan and Fiona encountered a wide array of obstacles. They crossed treacherous ravines on rickety bridges, climbed towering trees to scout the surroundings, and even stumbled upon a hidden waterfall that enchanted them both. Through it all, they relied on each other's strength and resourcefulness.\n",
      "--------------------------------------------------\n",
      "Chunk 6:\n",
      "Prompt: Along their journey, they encountered a wise old owl named Oliver, who became their guide through the labyrinthine forest. Oliver shared stories of ancient creatures and hidden treasures, igniting the young fox's imagination and filling Ethan's heart with wonder. Together, they unraveled the secrets of the forest and forged an unbreakable bond.\n",
      "--------------------------------------------------\n",
      "Chunk 7:\n",
      "Prompt: Days turned into weeks, and as their friendship grew stronger, so did their determination to find Fiona's home. One misty morning, after a particularly challenging climb up a rocky hill, they reached a clearing that revealed a breathtaking view of Fiona's fox den in the distance.\n",
      "--------------------------------------------------\n",
      "Chunk 8:\n",
      "Prompt: Overwhelmed with joy, Fiona thanked Ethan for his unwavering support and promised to always cherish their friendship. With newfound confidence and a sense of purpose, she bid farewell to Ethan, disappearing into the embrace of her family.\n",
      "--------------------------------------------------\n",
      "Chunk 9:\n",
      "Prompt: Ethan returned to his humble cottage with a heart full of memories and a smile that shone brighter than ever before. He knew that the adventure he embarked upon with Fiona had transformed his perspective on life. The lost forest had gifted him with more than he could have ever imagined – courage, friendship, and a bond that transcended boundaries.\n",
      "--------------------------------------------------\n",
      "Chunk 10:\n",
      "Prompt: From that day forward, Ethan shared his remarkable tale with anyone who would listen. His story of kindness and bravery inspired the villagers, and the lost forest became more than just a mysterious place—it became a symbol of hope and wonder. And in the depths of the forest, where moss-covered trees whispered secrets, the memory of Ethan and Fiona's adventure lived on, forever etched in the hearts of all who heard their tale.\n",
      "--------------------------------------------------\n"
     ]
    }
   ],
   "source": [
    "# Verify the number of document chunks\n",
    "num_chunks = len(split_documents)\n",
    "print(f\"Number of document chunks: {num_chunks}\")\n",
    "\n",
    "# Print content of the chunks (optional)\n",
    "for i, doc in enumerate(split_documents):\n",
    "    print(f\"Chunk {i+1}:\\n{doc.page_content}\\n{'-'*50}\")\n"
   ]
  },
  {
   "cell_type": "code",
   "execution_count": 10,
   "metadata": {},
   "outputs": [
    {
     "name": "stderr",
     "output_type": "stream",
     "text": [
      "e:\\AI Projects\\Hugging Face LLaMa recipes\\huggingface-llama-recipes\\venv\\lib\\site-packages\\transformers\\tokenization_utils_base.py:1617: FutureWarning: `clean_up_tokenization_spaces` was not set. It will be set to `True` by default. This behavior will be deprecated in transformers v4.45, and will be then set to `False` by default. For more details check this issue: https://github.com/huggingface/transformers/issues/31884\n",
      "  warnings.warn(\n"
     ]
    }
   ],
   "source": [
    "sentence_model = SentenceTransformer('all-MiniLM-L6-v2')\n",
    "\n",
    "# Extract the text content from the split documents\n",
    "document_texts = [doc.page_content for doc in split_documents]\n",
    "\n",
    "#  Embed the documents\n",
    "embeddings = sentence_model.encode(document_texts)"
   ]
  },
  {
   "cell_type": "code",
   "execution_count": 11,
   "metadata": {},
   "outputs": [
    {
     "name": "stderr",
     "output_type": "stream",
     "text": [
      "C:\\Users\\ASUS\\AppData\\Local\\Temp\\ipykernel_22352\\2846096455.py:3: LangChainDeprecationWarning: The class `HuggingFaceEmbeddings` was deprecated in LangChain 0.2.2 and will be removed in 1.0. An updated version of the class exists in the :class:`~langchain-huggingface package and should be used instead. To use it run `pip install -U :class:`~langchain-huggingface` and import as `from :class:`~langchain_huggingface import HuggingFaceEmbeddings``.\n",
      "  embedding_model = HuggingFaceEmbeddings(model_name=\"sentence-transformers/all-MiniLM-L6-v2\")\n",
      "C:\\Users\\ASUS\\AppData\\Local\\Temp\\ipykernel_22352\\2846096455.py:4: LangChainDeprecationWarning: The class `Chroma` was deprecated in LangChain 0.2.9 and will be removed in 1.0. An updated version of the class exists in the :class:`~langchain-chroma package and should be used instead. To use it run `pip install -U :class:`~langchain-chroma` and import as `from :class:`~langchain_chroma import Chroma``.\n",
      "  vector_store = Chroma(embedding_function=embedding_model, persist_directory=\"./vector_base\")\n",
      "C:\\Users\\ASUS\\AppData\\Local\\Temp\\ipykernel_22352\\2846096455.py:6: LangChainDeprecationWarning: Since Chroma 0.4.x the manual persistence method is no longer supported as docs are automatically persisted.\n",
      "  vector_store.persist()\n"
     ]
    }
   ],
   "source": [
    "# Embed the documents and initialize Chroma vector store\n",
    "\n",
    "embedding_model = HuggingFaceEmbeddings(model_name=\"sentence-transformers/all-MiniLM-L6-v2\")\n",
    "vector_store = Chroma(embedding_function=embedding_model, persist_directory=\"./vector_base\")\n",
    "vector_store.add_documents(split_documents)\n",
    "vector_store.persist()"
   ]
  },
  {
   "cell_type": "code",
   "execution_count": 12,
   "metadata": {},
   "outputs": [
    {
     "name": "stdout",
     "output_type": "stream",
     "text": [
      "Number of embeddings generated: 10\n"
     ]
    }
   ],
   "source": [
    "# Check the number of embeddings generated\n",
    "num_embeddings = len(embeddings)\n",
    "print(f\"Number of embeddings generated: {num_embeddings}\")\n"
   ]
  },
  {
   "cell_type": "code",
   "execution_count": 13,
   "metadata": {},
   "outputs": [
    {
     "name": "stdout",
     "output_type": "stream",
     "text": [
      "Number of embeddings in the vector store: 10\n"
     ]
    }
   ],
   "source": [
    "# Check the number of documents stored in the vector store\n",
    "stored_embeddings = vector_store._collection.count()\n",
    "print(f\"Number of embeddings in the vector store: {stored_embeddings}\")\n"
   ]
  },
  {
   "cell_type": "code",
   "execution_count": 14,
   "metadata": {},
   "outputs": [],
   "source": [
    "def retrieve_documents(query, num_docs=1):\n",
    "    # Implement your retrieval logic here (e.g., using vector store)\n",
    "    retrieved_docs = vector_store.similarity_search(query)  \n",
    "    print(\"Retrieved Documents:\", retrieved_docs[:num_docs])\n",
    "    return retrieved_docs[:num_docs]"
   ]
  },
  {
   "cell_type": "code",
   "execution_count": 15,
   "metadata": {},
   "outputs": [],
   "source": [
    "def ask_query(query, model=\"meta-llama/Llama-3.2-1B\"):\n",
    "\n",
    "    retrieved_docs = retrieve_documents(query)\n",
    "\n",
    "    combined_input = f\"{query}\\nContext: {retrieved_docs}\"\n",
    "\n",
    "    # Generate response using LLM with context\n",
    "    try:\n",
    "        response = client.text_generation(combined_input, max_new_tokens=50, temperature=0.7)\n",
    "        return response\n",
    "    except Exception as e:\n",
    "        print(f\"Error during model inference: {e}\")\n",
    "        return None\n",
    "    return response"
   ]
  },
  {
   "cell_type": "code",
   "execution_count": 16,
   "metadata": {},
   "outputs": [
    {
     "name": "stdout",
     "output_type": "stream",
     "text": [
      "Retrieved Documents: [Document(metadata={}, page_content='Prompt: Overwhelmed with joy, Fiona thanked Ethan for his unwavering support and promised to always cherish their friendship. With newfound confidence and a sense of purpose, she bid farewell to Ethan, disappearing into the embrace of her family.')]\n",
      " **Ethan** was the first person Fiona ever met. She found herself instantly captivated by his charming personality and magnetic energy. Their friendship blossomed into something special, and Fiona wholeheartedly embraced Ethan's love and support. **Ethan**\n"
     ]
    }
   ],
   "source": [
    "# Query the Model\n",
    "\n",
    "query = \"Who is Ethan\"\n",
    "response = ask_query(query)\n",
    "print(response)"
   ]
  },
  {
   "cell_type": "code",
   "execution_count": null,
   "metadata": {},
   "outputs": [],
   "source": []
  }
 ],
 "metadata": {
  "kernelspec": {
   "display_name": "Python 3",
   "language": "python",
   "name": "python3"
  },
  "language_info": {
   "codemirror_mode": {
    "name": "ipython",
    "version": 3
   },
   "file_extension": ".py",
   "mimetype": "text/x-python",
   "name": "python",
   "nbconvert_exporter": "python",
   "pygments_lexer": "ipython3",
   "version": "3.10.4"
  }
 },
 "nbformat": 4,
 "nbformat_minor": 2
}
